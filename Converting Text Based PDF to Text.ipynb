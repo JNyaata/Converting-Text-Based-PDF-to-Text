{
 "cells": [
  {
   "cell_type": "markdown",
   "metadata": {},
   "source": [
    "# Case Study – Information Extraction From PDF\n",
    "An Insurance Company wants to digitize their legacy data. Most of the data are captured in the form of text which is available as a portable document format(pdf). The company wants to extract information and then export the required information in the form of CSV so that it can be loaded into the database easily.\n",
    "For the purpose of this tutorial, we assume that we have only one pdf which is stored here for your reference. It is assumed that the PDFs are text-based and not image scanned PDFs. For simplicity, we are going to extract the following information from pdf.\n",
    "\n",
    "**Master Policy No.**\n",
    "\n",
    "**Certificate No.**\n",
    "\n",
    "**GST NO.**"
   ]
  },
  {
   "cell_type": "markdown",
   "metadata": {},
   "source": [
    "**Steps Involved In This Process**\n",
    "\n",
    "**1.Convert PDF to text** – In this step, we need to convert the PDF file to a text string. This can be achieved via python packages like pdfminer.six or PyPDF2. In the code example for this tutorial, I have used PyPDF2. Please note that this process extracts texts only from text-based PDFs. \n",
    "\n",
    "**2.Extract Information from Text** – Once the text data is available, the next step is to find the required fields. This can be found with the help of regular expressions. \n",
    "\n",
    "**3.Reformat and Extract**– After the required information is extracted and stored. This step ensures that the information is stored in such a way so as to make the data interpretable and easy to extract. This can be done with the help of pandas library of python. "
   ]
  },
  {
   "cell_type": "code",
   "execution_count": 2,
   "metadata": {},
   "outputs": [],
   "source": [
    "import PyPDF2"
   ]
  },
  {
   "cell_type": "code",
   "execution_count": 3,
   "metadata": {},
   "outputs": [],
   "source": [
    "def convert_pdf_to_text_py(path):\n",
    "    content = \"\"\n",
    "    with open(path, \"rb\") as f:\n",
    "        pdfDoc = PyPDF2.PdfFileReader(f,\"rb\")\n",
    "        for i in range(0,pdfDoc.getNumPages()):\n",
    "            content += pdfDoc.getPage(i).extractText() + \"\\n\"\n",
    "        return (content)"
   ]
  },
  {
   "cell_type": "code",
   "execution_count": 4,
   "metadata": {},
   "outputs": [],
   "source": [
    "text=convert_pdf_to_text_py(\"Contract.PDF\")"
   ]
  },
  {
   "cell_type": "code",
   "execution_count": 8,
   "metadata": {},
   "outputs": [
    {
     "data": {
      "text/plain": [
       "'PA Insurance for E-Ticket Passengers of IRCTCCertificate of InsuranceMaster Policy No: 10031/48/20/000002Certificate No: 201911230158587Name and Address of the GroupOrganizer/Group Policy holderIndian Railway Catering and Tourism Corporation 12th floor,IRCTC Corporate Office Statesman House, Barakhamba Road,New Delhi, Pin Code 110001.Originating Station: YESVANTPUR JNDestination Station: HUBBALLI JN#Trip means the actual departure of train from the originating station to actual arrival of train at the destination station asmentioned in booked ticket through which insurance cover has been opted and premium paid, including process ofentrainingand process of detrainingthe train. For other T&C and Policy wording please visit our website www.shriramgi.comInsured DetailsPNR NO. 4200410050NameAgeGenderMobile No.Email IDMr. NITISH KUMAR29Male9921168907vedant.006@gmail.comSum Insured (IN INR) DeathPermanent totaldisabilityPermanent partialdisability uptoHospitalizationexpenses for InjuryuptoTransportation of  mortal remains1000000100000075000020000010000Please quote the PNR No. & Certificate Number in all your correspondence.Premium: We have received premium of INR 0.49 (Including GST) at the time of booking your ticket.IN WITNESS WHEREOF, this Policy of Insurance has been signed on  23/11/2019PAN Number: AAKCS2509K                        For Shriram General Insurance Company Limited.Duly Authorized SignatoryShriram General Insurance Co. Ltd.Nominee Details*Name of NomineeAgeRelationship with Insured* In case if nominee details have not been provided then claim will be payable to Legal heir.CIN No.  U66010RJ2006PLC029979IRDA Registration Number: 137SHRIRAM GENERAL INSURANCE COMPANY LIMITEDIN PARTNERSHIP WITH THESanlam GROUPRegd. & Corpt. Office: E-8, EPIP, RIICO INDUSTRIAL AREA, SITAPURAJAIPUR  (Rajasthan) - 302022Website: www.shriramgi.comE-mail: customer.feedback@shriramgi.inToll Free: 1800-100-3009, 1800-300-30000,  ISO/IEC 27001:2013 certifiedTrip# details :Departure date and time: 24/11/2019 05:00:00Arrival date and time: 24/11/2019 14:40:00GST No.: 08AAKCS2509K1Z3'"
      ]
     },
     "execution_count": 8,
     "metadata": {},
     "output_type": "execute_result"
    }
   ],
   "source": [
    "text=text.replace('\\n','') ## Removed Newline characters\n",
    "text"
   ]
  },
  {
   "cell_type": "markdown",
   "metadata": {},
   "source": [
    "# STEP 2 Extract Information from Text"
   ]
  },
  {
   "cell_type": "markdown",
   "metadata": {},
   "source": [
    "**Extracting Information from Text using Regular Expressions**"
   ]
  },
  {
   "cell_type": "code",
   "execution_count": 9,
   "metadata": {},
   "outputs": [],
   "source": [
    "import re ## Regular Expressions library used for python\n"
   ]
  },
  {
   "cell_type": "code",
   "execution_count": 10,
   "metadata": {},
   "outputs": [],
   "source": [
    "def get_info_from_text(text,regex):\n",
    "    \"\"\"\n",
    "    Extract the string that matches the regular expressions\n",
    "    param:\n",
    "        text - text string extracted from pdf file\n",
    "        regex - reguar expressions that is to be searched for\n",
    "    returns the searched string\n",
    "    \"\"\"\n",
    "    required_info=''\n",
    "    ResSearch = re.search(regex, text)\n",
    "    if ResSearch:\n",
    "        required_info = ResSearch.group(1)\n",
    "    return required_info"
   ]
  },
  {
   "cell_type": "markdown",
   "metadata": {},
   "source": [
    "Define the regex for each and every field from the text which needs to be extracted. For Testing the regular expression use https://pythex.org/. Copy and paste your texts in Your test string field¶\n",
    "You can read more about regular expressions at https://docs.python.org/3/howto/regex.html"
   ]
  },
  {
   "cell_type": "code",
   "execution_count": 11,
   "metadata": {},
   "outputs": [],
   "source": [
    "regex_Master_Policy_No = 'Master Policy No:\\s?([0-9/]{18})'\n",
    "regex_Certificate_No = 'Certificate No:\\s?(\\d{15})'\n",
    "regex_GST_No='GST No.:\\s?(\\d{2}[A-Z]{5}\\d{4}[A-Z]{1}[A-Z\\d]{1}[Z]{1}[A-Z\\d]{1})' ## https://stackoverflow.com/questions/44431819/regex-for-gst-identification-number-gstin"
   ]
  },
  {
   "cell_type": "code",
   "execution_count": 12,
   "metadata": {},
   "outputs": [],
   "source": [
    "Master_Policy_No = get_info_from_text(text,regex_Master_Policy_No)\n",
    "Certificate_No=get_info_from_text(text,regex_Certificate_No)\n",
    "GST_No= get_info_from_text(text,regex_GST_No)"
   ]
  },
  {
   "cell_type": "code",
   "execution_count": 13,
   "metadata": {},
   "outputs": [
    {
     "name": "stdout",
     "output_type": "stream",
     "text": [
      "Master Policy Number is 10031/48/20/000002\n",
      "Certificate Number is 201911230158587\n",
      "GST Number is 08AAKCS2509K1Z3\n"
     ]
    }
   ],
   "source": [
    "print ('Master Policy Number is ' + Master_Policy_No)\n",
    "print ('Certificate Number is ' + Certificate_No)\n",
    "print ('GST Number is ' + GST_No)"
   ]
  },
  {
   "cell_type": "markdown",
   "metadata": {},
   "source": [
    "# STEP 3 Reformat and Export"
   ]
  },
  {
   "cell_type": "markdown",
   "metadata": {},
   "source": [
    "**Convert the data into a pandas dataframe**"
   ]
  },
  {
   "cell_type": "code",
   "execution_count": 31,
   "metadata": {},
   "outputs": [],
   "source": [
    "import pandas as pd # Data Manipulation Library\n",
    "import seaborn as sns\n",
    "sns.set_style(\"darkgrid\")"
   ]
  },
  {
   "cell_type": "code",
   "execution_count": 32,
   "metadata": {},
   "outputs": [],
   "source": [
    "## Creating a dataframe\n",
    "df_details = pd.DataFrame(columns=['MasterPolicyNo','CertificateNo','GSTNO'])"
   ]
  },
  {
   "cell_type": "code",
   "execution_count": 33,
   "metadata": {},
   "outputs": [],
   "source": [
    "data=[Master_Policy_No,Certificate_No,GST_No]"
   ]
  },
  {
   "cell_type": "code",
   "execution_count": 36,
   "metadata": {},
   "outputs": [],
   "source": [
    "## Inserting the row\n",
    "df_details.loc[len(df_details.index)] = data"
   ]
  },
  {
   "cell_type": "code",
   "execution_count": 37,
   "metadata": {},
   "outputs": [
    {
     "name": "stdout",
     "output_type": "stream",
     "text": [
      "       MasterPolicyNo    CertificateNo            GSTNO\n",
      "0  10031/48/20/000002  201911230158587  08AAKCS2509K1Z3\n"
     ]
    }
   ],
   "source": [
    "print(df_details)"
   ]
  },
  {
   "cell_type": "code",
   "execution_count": 38,
   "metadata": {},
   "outputs": [],
   "source": [
    "##export\n",
    "df_details.to_csv(\"policydetails.csv\",index=False)"
   ]
  },
  {
   "cell_type": "code",
   "execution_count": null,
   "metadata": {},
   "outputs": [],
   "source": []
  }
 ],
 "metadata": {
  "kernelspec": {
   "display_name": "Python 3",
   "language": "python",
   "name": "python3"
  },
  "language_info": {
   "codemirror_mode": {
    "name": "ipython",
    "version": 3
   },
   "file_extension": ".py",
   "mimetype": "text/x-python",
   "name": "python",
   "nbconvert_exporter": "python",
   "pygments_lexer": "ipython3",
   "version": "3.7.3"
  }
 },
 "nbformat": 4,
 "nbformat_minor": 2
}
